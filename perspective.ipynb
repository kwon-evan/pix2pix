{
 "cells": [
  {
   "cell_type": "code",
   "execution_count": 3,
   "metadata": {
    "collapsed": true
   },
   "outputs": [],
   "source": [
    "import os\n",
    "import random\n",
    "import imutils as im\n",
    "import numpy as np\n",
    "from cv2 import cv2\n",
    "\n",
    "img_dir = 'data/plates/test/synth_origin/'\n",
    "out_dir = 'data/plates/test/synth_warped/'\n",
    "img_list = os.listdir(img_dir)"
   ]
  },
  {
   "cell_type": "code",
   "execution_count": 4,
   "outputs": [
    {
     "data": {
      "text/plain": "  0%|          | 0/1000 [00:00<?, ?it/s]",
      "application/vnd.jupyter.widget-view+json": {
       "version_major": 2,
       "version_minor": 0,
       "model_id": "eb95baf1b23e4860bab65cfc56724c33"
      }
     },
     "metadata": {},
     "output_type": "display_data"
    }
   ],
   "source": [
    "from tqdm.auto import tqdm\n",
    "\n",
    "for i in tqdm(img_list):\n",
    "    img = cv2.imread(img_dir + i)\n",
    "    rows, cols = img.shape[:2]\n",
    "    x = random.randint(-rows//4, rows//4)\n",
    "    space = abs(x) + 10\n",
    "    x1, y1, x2, y2 = 0, 0, cols, rows\n",
    "    pts1 = np.float32([[x1,y1], [x1,y2], [x2, y1], [x2,y2]]) # lt, lb, rt, rb\n",
    "    pts2 = np.float32([[x1 + space, y1 + x + space], [x1 + space, y2 + x - space], [x2 - space, y1 - x + space], [x2 - space,y2 -x - space]])#\n",
    "    mtrx = cv2.getPerspectiveTransform(pts1, pts2)\n",
    "    dst = cv2.warpPerspective(img, mtrx, (cols, rows))\n",
    "    cv2.imwrite(out_dir + i, dst)"
   ],
   "metadata": {
    "collapsed": false
   }
  },
  {
   "cell_type": "code",
   "execution_count": 4,
   "outputs": [],
   "source": [
    "origin_img_path = 'data/plates/train/a/'\n",
    "origin_imgs = os.listdir(origin_img_path)\n",
    "image = cv2.imread(origin_img_path + origin_imgs[46513])"
   ],
   "metadata": {
    "collapsed": false
   }
  },
  {
   "cell_type": "code",
   "execution_count": 5,
   "outputs": [
    {
     "name": "stdout",
     "output_type": "stream",
     "text": [
      "Number of Contours found : 10\n"
     ]
    },
    {
     "ename": "error",
     "evalue": "OpenCV(4.4.0) /tmp/pip-req-build-re6mpwzb/opencv/modules/imgproc/src/drawing.cpp:2598: error: (-215:Assertion failed) reader.ptr != NULL in function 'cvDrawContours'\n",
     "output_type": "error",
     "traceback": [
      "\u001B[0;31m---------------------------------------------------------------------------\u001B[0m",
      "\u001B[0;31merror\u001B[0m                                     Traceback (most recent call last)",
      "Cell \u001B[0;32mIn [5], line 46\u001B[0m\n\u001B[1;32m     44\u001B[0m cv2\u001B[38;5;241m.\u001B[39mimshow(\u001B[38;5;124m\"\u001B[39m\u001B[38;5;124mAfter Canny Edges\u001B[39m\u001B[38;5;124m\"\u001B[39m, edged)\n\u001B[1;32m     45\u001B[0m \u001B[38;5;66;03m# Drawing the selected contour on the original image\u001B[39;00m\n\u001B[0;32m---> 46\u001B[0m cv2\u001B[38;5;241m.\u001B[39mdrawContours(image, [NumberPlateCnt], \u001B[38;5;241m-\u001B[39m\u001B[38;5;241m1\u001B[39m, (\u001B[38;5;241m255\u001B[39m,\u001B[38;5;241m0\u001B[39m,\u001B[38;5;241m0\u001B[39m), \u001B[38;5;241m2\u001B[39m)\n\u001B[1;32m     47\u001B[0m cv2\u001B[38;5;241m.\u001B[39mimshow(\u001B[38;5;124m\"\u001B[39m\u001B[38;5;124mOutput\u001B[39m\u001B[38;5;124m\"\u001B[39m, image)\n\u001B[1;32m     49\u001B[0m cv2\u001B[38;5;241m.\u001B[39mwaitKey(\u001B[38;5;241m1\u001B[39m) \u001B[38;5;66;03m#Wait for user input before closing the images displayed\u001B[39;00m\n",
      "\u001B[0;31merror\u001B[0m: OpenCV(4.4.0) /tmp/pip-req-build-re6mpwzb/opencv/modules/imgproc/src/drawing.cpp:2598: error: (-215:Assertion failed) reader.ptr != NULL in function 'cvDrawContours'\n"
     ]
    }
   ],
   "source": [
    "# Resize the image - change width to 500\n",
    "newwidth = 500\n",
    "image = im.resize(image, width=newwidth)\n",
    "\n",
    "# RGB to Gray scale conversion\n",
    "gray = cv2.cvtColor(image, cv2.COLOR_BGR2GRAY)\n",
    "\n",
    "# Noise removal with iterative bilateral filter(removes noise while preserving edges)\n",
    "d, sigmaColor, sigmaSpace = 11,17,17\n",
    "filtered_img = cv2.bilateralFilter(gray, d, sigmaColor, sigmaSpace)\n",
    "\n",
    "# Find Edges of the grayscale image\n",
    "lower, upper = 170, 200\n",
    "edged = cv2.Canny(filtered_img, lower, upper)\n",
    "\n",
    "# Find contours based on Edges\n",
    "cnts,hir = cv2.findContours(edged.copy(), cv2.RETR_LIST, cv2.CHAIN_APPROX_SIMPLE)\n",
    "\n",
    "cnts=sorted(cnts, key = cv2.contourArea, reverse = True)[:10]\n",
    "NumberPlateCnt = None\n",
    "print(\"Number of Contours found : \" + str(len(cnts)))\n",
    "\n",
    "\n",
    "# loop over our contours to find the best possible approximate contour of number plate\n",
    "count = 0\n",
    "for c in cnts:\n",
    "        peri = cv2.arcLength(c, True)\n",
    "\n",
    "        epsilon = 0.01 * peri\n",
    "        approx = cv2.approxPolyDP(c, epsilon, True)\n",
    "\n",
    "        if len(approx) == 4:  # Select the contour with 4 corners\n",
    "            print(approx)\n",
    "            NumberPlateCnt = approx #This is our approx Number Plate Contour\n",
    "            break\n",
    "\n",
    "# Display the original image\n",
    "cv2.imshow(\"Input Image\", image)\n",
    "# Display Grayscale image\n",
    "cv2.imshow(\"Gray scale Image\", gray)\n",
    "# Display Filtered image\n",
    "cv2.imshow(\"After Applying Bilateral Filter\", filtered_img)\n",
    "# Display Canny Image\n",
    "cv2.imshow(\"After Canny Edges\", edged)\n",
    "# Drawing the selected contour on the original image\n",
    "cv2.drawContours(image, [NumberPlateCnt], -1, (255,0,0), 2)\n",
    "cv2.imshow(\"Output\", image)\n",
    "\n",
    "cv2.waitKey(1) #Wait for user input before closing the images displayed\n",
    "cv2.destroyAllWindows()"
   ],
   "metadata": {
    "collapsed": false
   }
  },
  {
   "cell_type": "code",
   "execution_count": null,
   "outputs": [],
   "source": [],
   "metadata": {
    "collapsed": false
   }
  }
 ],
 "metadata": {
  "kernelspec": {
   "display_name": "Python 3",
   "language": "python",
   "name": "python3"
  },
  "language_info": {
   "codemirror_mode": {
    "name": "ipython",
    "version": 2
   },
   "file_extension": ".py",
   "mimetype": "text/x-python",
   "name": "python",
   "nbconvert_exporter": "python",
   "pygments_lexer": "ipython2",
   "version": "2.7.6"
  }
 },
 "nbformat": 4,
 "nbformat_minor": 0
}
