{
 "cells": [
  {
   "cell_type": "code",
   "execution_count": 53,
   "metadata": {
    "collapsed": true
   },
   "outputs": [],
   "source": [
    "import os\n",
    "import numpy as np\n",
    "from cv2 import cv2\n",
    "from tqdm.auto import tqdm\n",
    "\n",
    "\n",
    "def get_img_contours(img_path):\n",
    "    img_names = os.listdir(img_path)\n",
    "    output = {}\n",
    "\n",
    "    for img_name in tqdm(img_names):\n",
    "        image = cv2.imread(img_path + img_name)\n",
    "\n",
    "        # Resize the image - change width to 500\n",
    "        newwidth = 500\n",
    "\n",
    "        # RGB to Gray scale conversion\n",
    "        gray = cv2.cvtColor(image, cv2.COLOR_BGR2GRAY)\n",
    "\n",
    "        # Noise removal with iterative bilateral filter(removes noise while preserving edges)\n",
    "        d, sigmaColor, sigmaSpace = 11, 17, 17\n",
    "        filtered_img = cv2.bilateralFilter(gray, d, sigmaColor, sigmaSpace)\n",
    "\n",
    "        # Find Edges of the grayscale image\n",
    "        lower, upper = 15, 25\n",
    "        edged = cv2.Canny(filtered_img, lower, upper)\n",
    "\n",
    "        # Find contours based on Edges\n",
    "        cnts, hir = cv2.findContours(edged.copy(), cv2.RETR_LIST, cv2.CHAIN_APPROX_SIMPLE)\n",
    "\n",
    "        cnts = sorted(cnts, key=cv2.contourArea, reverse=True)[:10]\n",
    "        NumberPlateCnt = None\n",
    "\n",
    "        # loop over our contours to find the best possible approximate contour of number plate\n",
    "        count = 0\n",
    "        for c in cnts:\n",
    "            peri = cv2.arcLength(c, True)\n",
    "\n",
    "            epsilon = 0.01 * peri\n",
    "            approx = cv2.approxPolyDP(c, epsilon, True)\n",
    "\n",
    "            if len(approx) == 4:  # Select the contour with 4 corners\n",
    "                # print(approx)\n",
    "                NumberPlateCnt = approx  # This is our approx Number Plate Contour\n",
    "                break\n",
    "\n",
    "        if NumberPlateCnt is not None and cv2.contourArea(NumberPlateCnt) > 1250:\n",
    "            output[img_name] = NumberPlateCnt\n",
    "            # print(img_name, NumberPlateCnt)\n",
    "        else:\n",
    "            # print(\"LP is not detected.\")\n",
    "            pass\n",
    "\n",
    "    return output"
   ]
  },
  {
   "cell_type": "code",
   "execution_count": 54,
   "outputs": [
    {
     "data": {
      "text/plain": "  0%|          | 0/80000 [00:00<?, ?it/s]",
      "application/vnd.jupyter.widget-view+json": {
       "version_major": 2,
       "version_minor": 0,
       "model_id": "412ca4c5785d4ad380fec1753e7d36b8"
      }
     },
     "metadata": {},
     "output_type": "display_data"
    }
   ],
   "source": [
    "origin_img_path = 'data/plates/train/a/'\n",
    "imgs = get_img_contours(origin_img_path)"
   ],
   "metadata": {
    "collapsed": false
   }
  },
  {
   "cell_type": "code",
   "execution_count": 55,
   "outputs": [
    {
     "data": {
      "text/plain": "  0%|          | 0/17331 [00:00<?, ?it/s]",
      "application/vnd.jupyter.widget-view+json": {
       "version_major": 2,
       "version_minor": 0,
       "model_id": "110b1b1af5e84185bc44d62fc8caa5ac"
      }
     },
     "metadata": {},
     "output_type": "display_data"
    }
   ],
   "source": [
    "for img_name, points in tqdm(imgs.items()):\n",
    "    # Read a image\n",
    "    I = cv2.imread(origin_img_path + img_name)\n",
    "    points = points.tolist()\n",
    "\n",
    "    # Define the polygon coordinates to use or the crop\n",
    "    polygon = [[p[0] for p in points]]\n",
    "\n",
    "    # First find the minX minY maxX and maxY of the polygon\n",
    "    minX = I.shape[1]\n",
    "    maxX = -1\n",
    "    minY = I.shape[0]\n",
    "    maxY = -1\n",
    "    for point in polygon[0]:\n",
    "\n",
    "        x = point[0]\n",
    "        y = point[1]\n",
    "\n",
    "        if x < minX:\n",
    "            minX = x\n",
    "        if x > maxX:\n",
    "            maxX = x\n",
    "        if y < minY:\n",
    "            minY = y\n",
    "        if y > maxY:\n",
    "            maxY = y\n",
    "\n",
    "    # Go over the points in the image if thay are out side of the emclosing rectangle put zero\n",
    "    # if not check if thay are inside the polygon or not\n",
    "    cropedImage = np.zeros_like(I)\n",
    "    for y in range(0,I.shape[0]):\n",
    "        for x in range(0, I.shape[1]):\n",
    "\n",
    "            if x < minX or x > maxX or y < minY or y > maxY:\n",
    "                continue\n",
    "\n",
    "            if cv2.pointPolygonTest(np.asarray(polygon),(x,y),False) >= 0:\n",
    "                cropedImage[y, x, 0] = I[y, x, 0]\n",
    "                cropedImage[y, x, 1] = I[y, x, 1]\n",
    "                cropedImage[y, x, 2] = I[y, x, 2]\n",
    "\n",
    "    # Now we can crop again just the envloping rectangle\n",
    "    # finalImage = cropedImage[minY:maxY,minX:maxX]\n",
    "    # finalImage\n",
    "\n",
    "    cv2.imwrite('data/plates/cropped/' + img_name, cropedImage)"
   ],
   "metadata": {
    "collapsed": false
   }
  },
  {
   "cell_type": "code",
   "execution_count": 56,
   "outputs": [
    {
     "data": {
      "text/plain": "17428"
     },
     "execution_count": 56,
     "metadata": {},
     "output_type": "execute_result"
    }
   ],
   "source": [
    "crops = os.listdir('data/plates/cropped/')\n",
    "len(crops)"
   ],
   "metadata": {
    "collapsed": false
   }
  },
  {
   "cell_type": "code",
   "execution_count": 74,
   "outputs": [
    {
     "data": {
      "text/plain": "  0%|          | 0/17428 [00:00<?, ?it/s]",
      "application/vnd.jupyter.widget-view+json": {
       "version_major": 2,
       "version_minor": 0,
       "model_id": "0303ecc9202c4d1faa8458fbbeca6f6f"
      }
     },
     "metadata": {},
     "output_type": "display_data"
    }
   ],
   "source": [
    "import shutil\n",
    "\n",
    "for crop in tqdm(crops):\n",
    "    im = cv2.imread('data/plates/cropped/' + crop)\n",
    "    dst0 = cv2.bilateralFilter(im, 9, 20, 20)\n",
    "    dst1 = cv2.GaussianBlur(dst0, (3,3), 5,5)\n",
    "    canny = cv2.Canny(dst1, 150, 150)\n",
    "    cv2.imwrite('data/plates2/train/b/' + crop, canny)\n",
    "    shutil.copy('data/plates/train/a/' + crop, 'data/plates2/train/a/' + crop)\n",
    "\n",
    "    # cv2.imshow('', im)\n",
    "    # cv2.imshow('dst0', dst0)\n",
    "    # cv2.imshow('dst1', dst1)\n",
    "    # cv2.imshow('canny', canny)\n",
    "    # cv2.waitKey(0)\n",
    "    # cv2.destroyAllWindows()\n",
    "    # break"
   ],
   "metadata": {
    "collapsed": false
   }
  },
  {
   "cell_type": "code",
   "execution_count": null,
   "outputs": [],
   "source": [],
   "metadata": {
    "collapsed": false
   }
  }
 ],
 "metadata": {
  "kernelspec": {
   "display_name": "Python 3",
   "language": "python",
   "name": "python3"
  },
  "language_info": {
   "codemirror_mode": {
    "name": "ipython",
    "version": 2
   },
   "file_extension": ".py",
   "mimetype": "text/x-python",
   "name": "python",
   "nbconvert_exporter": "python",
   "pygments_lexer": "ipython2",
   "version": "2.7.6"
  }
 },
 "nbformat": 4,
 "nbformat_minor": 0
}
